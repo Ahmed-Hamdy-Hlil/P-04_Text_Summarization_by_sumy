{
  "nbformat": 4,
  "nbformat_minor": 0,
  "metadata": {
    "colab": {
      "provenance": []
    },
    "kernelspec": {
      "name": "python3",
      "display_name": "Python 3"
    },
    "language_info": {
      "name": "python"
    }
  },
  "cells": [
    {
      "cell_type": "code",
      "execution_count": null,
      "metadata": {
        "id": "OUGKRQ-Dnlx0"
      },
      "outputs": [],
      "source": [
        "! pip install sumy\n",
        "! pip install streamlit\n",
        "! pip install pyngrok\n",
        "! pip install langdetect\n",
        "! pip uninstall nltk\n",
        "! pip install nltk\n",
        "! pip install pyarabic"
      ]
    },
    {
      "cell_type": "code",
      "source": [
        "%%writefile Text_Summarization.py\n",
        "import nltk\n",
        "import streamlit as st\n",
        "# type of language that plain text recived\n",
        "from sumy.parsers.plaintext import PlaintextParser\n",
        "# convert sentance into group of words\n",
        "from sumy.nlp.tokenizers import Tokenizer\n",
        "# model\n",
        "from sumy.summarizers.lsa import LsaSummarizer\n",
        "from sumy.summarizers.luhn import LuhnSummarizer\n",
        "from sumy.summarizers.lex_rank import LexRankSummarizer\n",
        "from sumy.summarizers.text_rank import TextRankSummarizer\n",
        "from langdetect import detect\n",
        "\n",
        "# Ensure NLTK's punkt tokenizer is available\n",
        "nltk.download('punkt')\n",
        "nltk.download('punkt_tab')\n",
        "\n",
        "language_names = {\n",
        "    'en': 'english',\n",
        "    'fr': 'french',\n",
        "    'de': 'german',\n",
        "    'es': 'spanish',\n",
        "    'it': 'italian',\n",
        "    'pt': 'portuguese',\n",
        "    'zh': 'chinese',\n",
        "    'ja': 'japanese',\n",
        "    'ar': 'arabic',\n",
        "    'ru': 'russian',\n",
        "    'ko': 'korean',\n",
        "    # Add more as needed\n",
        "}\n",
        "\n",
        "st.title('Text Summarization Application')\n",
        "text = st.text_area('Text here ...')\n",
        "# detect language\n",
        "if text.strip():  # Check if the text is not empty or just whitespace\n",
        "  language_code = detect(text)\n",
        "  language_name = language_names.get(language_code, 'Unknown language')\n",
        "else:\n",
        "  language_name = None\n",
        "\n",
        "# summarization type by select box\n",
        "summarization_type = st.selectbox('Choose Summarizer Type', ('LSA','LUHN','LEX','TEXT') )\n",
        "# Number of sentences\n",
        "sentences_count = st.slider('Number Of Sentences' , 1 , 10 , 5) # start end default\n",
        "\n",
        "def summarize_text(text , summarization_type = 'LSA' , sentences_count = 5 , language_name = 'english' ):\n",
        "  # pass text with language\n",
        "  parser = PlaintextParser.from_string(text , Tokenizer(language_name))\n",
        "  if summarization_type == 'LSA':\n",
        "    summarizer = LsaSummarizer()\n",
        "  elif summarization_type == 'LUHN':\n",
        "    summarizer = LuhnSummarizer()\n",
        "  elif summarization_type == 'LEX':\n",
        "    summarizer = LexRankSummarizer()\n",
        "  elif summarization_type == 'TEXT':\n",
        "    summarizer = TextRankSummarizer()\n",
        "  else :\n",
        "    st.error('Please Enter Valid Name of Summarizer')\n",
        "    return \"\"\n",
        "  summary = summarizer(parser.document , sentences_count )\n",
        "  return ' '.join(str(sentence) for sentence in summary)\n",
        "if st.button('Summarize Text'):\n",
        "  if text:\n",
        "    summary = summarize_text(text , summarization_type , sentences_count, language_name)\n",
        "    st.subheader('Summary')\n",
        "    st.write(summary)\n",
        "  else:\n",
        "    st.error('Please Enter The Text !')"
      ],
      "metadata": {
        "colab": {
          "base_uri": "https://localhost:8080/"
        },
        "id": "fkA5QhKutSHh",
        "outputId": "8d826b48-b37d-4e11-b390-25ca883803c8"
      },
      "execution_count": null,
      "outputs": [
        {
          "output_type": "stream",
          "name": "stdout",
          "text": [
            "Overwriting Text_Summarization.py\n"
          ]
        }
      ]
    },
    {
      "cell_type": "code",
      "source": [
        "from pyngrok import ngrok\n",
        "# https://dashboard.ngrok.com/get-started/your-authtoken\n",
        "! ngrok authtoken 'Your Auth Key'\n",
        "! streamlit run Text_Summarization.py &>/dev/null&\n",
        "!pgrep -f streamlit\n",
        "puplic_url = ngrok.connect('8501')\n",
        "print(puplic_url)"
      ],
      "metadata": {
        "colab": {
          "base_uri": "https://localhost:8080/"
        },
        "id": "ZSTu-EMDuned",
        "outputId": "126088f9-b43f-4b33-85ba-655d756b7488"
      },
      "execution_count": null,
      "outputs": [
        {
          "output_type": "stream",
          "name": "stdout",
          "text": [
            "Authtoken saved to configuration file: /root/.config/ngrok/ngrok.yml\n",
            "714\n",
            "NgrokTunnel: \"https://e6d6-35-223-204-213.ngrok-free.app\" -> \"http://localhost:8501\"\n"
          ]
        }
      ]
    },
    {
      "cell_type": "code",
      "source": [
        "import subprocess\n",
        "\n",
        "# Kill any existing ngrok processes\n",
        "subprocess.run([\"pkill\", \"ngrok\"])"
      ],
      "metadata": {
        "colab": {
          "base_uri": "https://localhost:8080/"
        },
        "id": "sIfEaGPWxRvi",
        "outputId": "4e38ee8c-0202-487c-b046-a08dbc3e0f72"
      },
      "execution_count": null,
      "outputs": [
        {
          "output_type": "stream",
          "name": "stderr",
          "text": [
            "WARNING:pyngrok.process.ngrok:t=2024-09-02T01:54:05+0000 lvl=warn msg=\"Stopping forwarder\" name=http-8501-1f6056ff-a3a1-4e70-8f84-4e2ee8098875 acceptErr=\"failed to accept connection: Listener closed\"\n"
          ]
        },
        {
          "output_type": "execute_result",
          "data": {
            "text/plain": [
              "CompletedProcess(args=['pkill', 'ngrok'], returncode=0)"
            ]
          },
          "metadata": {},
          "execution_count": 13
        }
      ]
    },
    {
      "cell_type": "code",
      "source": [],
      "metadata": {
        "id": "GN1PDnZdGqrZ"
      },
      "execution_count": null,
      "outputs": []
    }
  ]
}